{
 "cells": [
  {
   "cell_type": "code",
   "execution_count": 1,
   "metadata": {},
   "outputs": [],
   "source": [
    "import scanpy as sc\n",
    "import numpy as np\n",
    "import scipy as sp\n",
    "import pandas as pd"
   ]
  },
  {
   "cell_type": "code",
   "execution_count": 2,
   "metadata": {},
   "outputs": [],
   "source": [
    "# Set up data loading\n",
    "\n",
    "#Data files\n",
    "file_base = '../Data/'\n",
    "\n",
    "data_types = ['filtered', 'raw']\n",
    "\n",
    "celltype_strings = ['b_cells_','cd14_monocytes_','cd4_t_helper_','cd56_nk_','memory_t_','regulatory_t_']\n",
    "celltype_strings = ['cd14_monocytes_','cytotoxic_t_','memory_t_','naive_cytotoxic_','naive_t_','regulatory_t_']\n",
    "celltype_sub = '_gene_bc_matrices'\n",
    "\n",
    "file_sub = '/matrices_mex/hg19/'\n",
    "\n",
    "file_mtx = 'matrix.mtx'\n",
    "file_bar = 'barcodes.tsv'\n",
    "file_gen = 'genes.tsv'"
   ]
  },
  {
   "cell_type": "code",
   "execution_count": 3,
   "metadata": {},
   "outputs": [
    {
     "ename": "MemoryError",
     "evalue": "Unable to allocate array with shape (737280, 32738) and data type float32",
     "output_type": "error",
     "traceback": [
      "\u001b[1;31m---------------------------------------------------------------------------\u001b[0m",
      "\u001b[1;31mMemoryError\u001b[0m                               Traceback (most recent call last)",
      "\u001b[1;32m<ipython-input-3-e05b436e7df0>\u001b[0m in \u001b[0;36m<module>\u001b[1;34m\u001b[0m\n\u001b[0;32m      7\u001b[0m     \u001b[0madata\u001b[0m \u001b[1;33m=\u001b[0m \u001b[0msc\u001b[0m\u001b[1;33m.\u001b[0m\u001b[0mread\u001b[0m\u001b[1;33m(\u001b[0m\u001b[0mdata_file\u001b[0m\u001b[1;33m+\u001b[0m\u001b[0mfile_mtx\u001b[0m\u001b[1;33m,\u001b[0m \u001b[0mcache\u001b[0m\u001b[1;33m=\u001b[0m\u001b[1;32mTrue\u001b[0m\u001b[1;33m)\u001b[0m\u001b[1;33m\u001b[0m\u001b[1;33m\u001b[0m\u001b[0m\n\u001b[0;32m      8\u001b[0m     \u001b[0madata\u001b[0m \u001b[1;33m=\u001b[0m \u001b[0madata\u001b[0m\u001b[1;33m.\u001b[0m\u001b[0mtranspose\u001b[0m\u001b[1;33m(\u001b[0m\u001b[1;33m)\u001b[0m\u001b[1;33m\u001b[0m\u001b[1;33m\u001b[0m\u001b[0m\n\u001b[1;32m----> 9\u001b[1;33m     \u001b[0madata\u001b[0m\u001b[1;33m.\u001b[0m\u001b[0mX\u001b[0m \u001b[1;33m=\u001b[0m \u001b[0madata\u001b[0m\u001b[1;33m.\u001b[0m\u001b[0mX\u001b[0m\u001b[1;33m.\u001b[0m\u001b[0mtoarray\u001b[0m\u001b[1;33m(\u001b[0m\u001b[1;33m)\u001b[0m\u001b[1;33m\u001b[0m\u001b[1;33m\u001b[0m\u001b[0m\n\u001b[0m\u001b[0;32m     10\u001b[0m \u001b[1;33m\u001b[0m\u001b[0m\n\u001b[0;32m     11\u001b[0m     \u001b[0mbarcodes\u001b[0m \u001b[1;33m=\u001b[0m \u001b[0mpd\u001b[0m\u001b[1;33m.\u001b[0m\u001b[0mread_csv\u001b[0m\u001b[1;33m(\u001b[0m\u001b[0mdata_file\u001b[0m\u001b[1;33m+\u001b[0m\u001b[0mfile_bar\u001b[0m\u001b[1;33m,\u001b[0m \u001b[0mheader\u001b[0m\u001b[1;33m=\u001b[0m\u001b[1;32mNone\u001b[0m\u001b[1;33m,\u001b[0m \u001b[0msep\u001b[0m\u001b[1;33m=\u001b[0m\u001b[1;34m'\\t'\u001b[0m\u001b[1;33m)\u001b[0m\u001b[1;33m\u001b[0m\u001b[1;33m\u001b[0m\u001b[0m\n",
      "\u001b[1;32m~\\Anaconda3\\envs\\sc-tutorial\\lib\\site-packages\\scipy\\sparse\\compressed.py\u001b[0m in \u001b[0;36mtoarray\u001b[1;34m(self, order, out)\u001b[0m\n\u001b[0;32m   1022\u001b[0m         \u001b[1;32mif\u001b[0m \u001b[0mout\u001b[0m \u001b[1;32mis\u001b[0m \u001b[1;32mNone\u001b[0m \u001b[1;32mand\u001b[0m \u001b[0morder\u001b[0m \u001b[1;32mis\u001b[0m \u001b[1;32mNone\u001b[0m\u001b[1;33m:\u001b[0m\u001b[1;33m\u001b[0m\u001b[1;33m\u001b[0m\u001b[0m\n\u001b[0;32m   1023\u001b[0m             \u001b[0morder\u001b[0m \u001b[1;33m=\u001b[0m \u001b[0mself\u001b[0m\u001b[1;33m.\u001b[0m\u001b[0m_swap\u001b[0m\u001b[1;33m(\u001b[0m\u001b[1;34m'cf'\u001b[0m\u001b[1;33m)\u001b[0m\u001b[1;33m[\u001b[0m\u001b[1;36m0\u001b[0m\u001b[1;33m]\u001b[0m\u001b[1;33m\u001b[0m\u001b[1;33m\u001b[0m\u001b[0m\n\u001b[1;32m-> 1024\u001b[1;33m         \u001b[0mout\u001b[0m \u001b[1;33m=\u001b[0m \u001b[0mself\u001b[0m\u001b[1;33m.\u001b[0m\u001b[0m_process_toarray_args\u001b[0m\u001b[1;33m(\u001b[0m\u001b[0morder\u001b[0m\u001b[1;33m,\u001b[0m \u001b[0mout\u001b[0m\u001b[1;33m)\u001b[0m\u001b[1;33m\u001b[0m\u001b[1;33m\u001b[0m\u001b[0m\n\u001b[0m\u001b[0;32m   1025\u001b[0m         \u001b[1;32mif\u001b[0m \u001b[1;32mnot\u001b[0m \u001b[1;33m(\u001b[0m\u001b[0mout\u001b[0m\u001b[1;33m.\u001b[0m\u001b[0mflags\u001b[0m\u001b[1;33m.\u001b[0m\u001b[0mc_contiguous\u001b[0m \u001b[1;32mor\u001b[0m \u001b[0mout\u001b[0m\u001b[1;33m.\u001b[0m\u001b[0mflags\u001b[0m\u001b[1;33m.\u001b[0m\u001b[0mf_contiguous\u001b[0m\u001b[1;33m)\u001b[0m\u001b[1;33m:\u001b[0m\u001b[1;33m\u001b[0m\u001b[1;33m\u001b[0m\u001b[0m\n\u001b[0;32m   1026\u001b[0m             \u001b[1;32mraise\u001b[0m \u001b[0mValueError\u001b[0m\u001b[1;33m(\u001b[0m\u001b[1;34m'Output array must be C or F contiguous'\u001b[0m\u001b[1;33m)\u001b[0m\u001b[1;33m\u001b[0m\u001b[1;33m\u001b[0m\u001b[0m\n",
      "\u001b[1;32m~\\Anaconda3\\envs\\sc-tutorial\\lib\\site-packages\\scipy\\sparse\\base.py\u001b[0m in \u001b[0;36m_process_toarray_args\u001b[1;34m(self, order, out)\u001b[0m\n\u001b[0;32m   1184\u001b[0m             \u001b[1;32mreturn\u001b[0m \u001b[0mout\u001b[0m\u001b[1;33m\u001b[0m\u001b[1;33m\u001b[0m\u001b[0m\n\u001b[0;32m   1185\u001b[0m         \u001b[1;32melse\u001b[0m\u001b[1;33m:\u001b[0m\u001b[1;33m\u001b[0m\u001b[1;33m\u001b[0m\u001b[0m\n\u001b[1;32m-> 1186\u001b[1;33m             \u001b[1;32mreturn\u001b[0m \u001b[0mnp\u001b[0m\u001b[1;33m.\u001b[0m\u001b[0mzeros\u001b[0m\u001b[1;33m(\u001b[0m\u001b[0mself\u001b[0m\u001b[1;33m.\u001b[0m\u001b[0mshape\u001b[0m\u001b[1;33m,\u001b[0m \u001b[0mdtype\u001b[0m\u001b[1;33m=\u001b[0m\u001b[0mself\u001b[0m\u001b[1;33m.\u001b[0m\u001b[0mdtype\u001b[0m\u001b[1;33m,\u001b[0m \u001b[0morder\u001b[0m\u001b[1;33m=\u001b[0m\u001b[0morder\u001b[0m\u001b[1;33m)\u001b[0m\u001b[1;33m\u001b[0m\u001b[1;33m\u001b[0m\u001b[0m\n\u001b[0m\u001b[0;32m   1187\u001b[0m \u001b[1;33m\u001b[0m\u001b[0m\n\u001b[0;32m   1188\u001b[0m \u001b[1;33m\u001b[0m\u001b[0m\n",
      "\u001b[1;31mMemoryError\u001b[0m: Unable to allocate array with shape (737280, 32738) and data type float32"
     ]
    }
   ],
   "source": [
    "# do for both datatypes\n",
    "#data = []\n",
    "for data_type in data_types[1:]:\n",
    "    data_file = file_base+data_type+\"/\"+celltype_strings[0]+data_type+celltype_sub+file_sub\n",
    "\n",
    "    #Load data\n",
    "    adata = sc.read(data_file+file_mtx, cache=True)\n",
    "    adata = adata.transpose()\n",
    "    adata.X = adata.X.toarray()\n",
    "\n",
    "    barcodes = pd.read_csv(data_file+file_bar, header=None, sep='\\t')\n",
    "    genes = pd.read_csv(data_file+file_gen, header=None, sep='\\t')\n",
    "\n",
    "    #Annotate data\n",
    "    barcodes.rename(columns={0:'barcode'}, inplace=True)\n",
    "    barcodes.set_index('barcode', inplace=True)\n",
    "    adata.obs = barcodes\n",
    "\n",
    "    adata.obs['celltype'] = [celltype_strings[0]]*adata.n_obs\n",
    "\n",
    "    genes.rename(columns={0:'gene_id', 1:'gene_symbol'}, inplace=True)\n",
    "    genes.set_index('gene_symbol', inplace=True)\n",
    "    adata.var = genes\n",
    "    \n",
    "    print(adata)\n",
    "    # Loop to load rest of data sets\n",
    "    for celltype in celltype_strings[1:]:\n",
    "        print(celltype)\n",
    "        data_file = file_base+data_type+\"/\"+celltype+data_type+celltype_sub+file_sub\n",
    "\n",
    "        #Load data\n",
    "        adata_tmp = sc.read(data_file+file_mtx, cache=True)\n",
    "        adata_tmp = adata_tmp.transpose()\n",
    "        adata_tmp.X = adata_tmp.X.toarray()\n",
    "\n",
    "        barcodes_tmp = pd.read_csv(data_file+file_bar, header=None, sep='\\t')\n",
    "        genes_tmp = pd.read_csv(data_file+file_gen, header=None, sep='\\t')\n",
    "\n",
    "        #Annotate data\n",
    "        barcodes_tmp.rename(columns={0:'barcode'}, inplace=True)\n",
    "        barcodes_tmp.set_index('barcode', inplace=True)\n",
    "        adata_tmp.obs = barcodes_tmp\n",
    "        adata_tmp.obs['celltype'] = [celltype]*adata_tmp.n_obs\n",
    "\n",
    "        genes_tmp.rename(columns={0:'gene_id', 1:'gene_symbol'}, inplace=True)\n",
    "        genes_tmp.set_index('gene_symbol', inplace=True)\n",
    "        adata_tmp.var = genes_tmp\n",
    "        adata_tmp.var_names_make_unique()\n",
    "        \n",
    "        print(adata_tmp)\n",
    "        # Concatenate to main adata object\n",
    "        adata = adata.concatenate(adata_tmp, batch_key='sample_id')\n",
    "        adata.obs_names = [c.split(\"-\")[0] for c in adata.obs_names]\n",
    "        adata.obs_names_make_unique(join='_')\n",
    "#    data.append(adata)"
   ]
  },
  {
   "cell_type": "code",
   "execution_count": 10,
   "metadata": {},
   "outputs": [
    {
     "data": {
      "text/plain": [
       "['b_cells_raw_gene_bc_matrices',\n",
       " 'cd14_monocytes_raw_gene_bc_matrices',\n",
       " 'cd34_raw_gene_bc_matrices',\n",
       " 'cd4_t_helper_raw_gene_bc_matrices',\n",
       " 'cd56_nk_raw_gene_bc_matrices',\n",
       " 'cytotoxic_t_raw_gene_bc_matrices',\n",
       " 'memory_t_raw_gene_bc_matrices',\n",
       " 'naive_cytotoxic_raw_gene_bc_matrices',\n",
       " 'naive_t_raw_gene_bc_matrices',\n",
       " 'regulatory_t_raw_gene_bc_matrices']"
      ]
     },
     "execution_count": 10,
     "metadata": {},
     "output_type": "execute_result"
    }
   ],
   "source": [
    "import os\n",
    "os.listdir('../Data/raw')"
   ]
  }
 ],
 "metadata": {
  "kernelspec": {
   "display_name": "Py_sc",
   "language": "python",
   "name": "sc"
  },
  "language_info": {
   "codemirror_mode": {
    "name": "ipython",
    "version": 3
   },
   "file_extension": ".py",
   "mimetype": "text/x-python",
   "name": "python",
   "nbconvert_exporter": "python",
   "pygments_lexer": "ipython3",
   "version": "3.6.9"
  }
 },
 "nbformat": 4,
 "nbformat_minor": 2
}
